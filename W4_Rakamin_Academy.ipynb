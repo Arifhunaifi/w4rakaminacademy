{
  "nbformat": 4,
  "nbformat_minor": 0,
  "metadata": {
    "colab": {
      "provenance": []
    },
    "kernelspec": {
      "name": "python3",
      "display_name": "Python 3"
    },
    "language_info": {
      "name": "python"
    }
  },
  "cells": [
    {
      "cell_type": "code",
      "source": [
        "import pandas as pd\n",
        "import numpy as np\n",
        "import seaborn as sns\n",
        "import matplotlib.pyplot as plt\n",
        "%matplotlib inline"
      ],
      "metadata": {
        "id": "YVey7-QsFNh2"
      },
      "execution_count": 16,
      "outputs": []
    },
    {
      "cell_type": "markdown",
      "source": [
        "**IMPORT DATASET**"
      ],
      "metadata": {
        "id": "BHE0h5FUEnRn"
      }
    },
    {
      "cell_type": "code",
      "source": [
        "!wget 'https://rakamin-lms.s3.ap-southeast-1.amazonaws.com/vix-assets/home-credit-indonesia/home-credit-default-risk.zip'"
      ],
      "metadata": {
        "colab": {
          "base_uri": "https://localhost:8080/"
        },
        "id": "dAvnNknQDiTB",
        "outputId": "fb8f4b01-ec71-4e35-ef58-22b85237baf1"
      },
      "execution_count": 2,
      "outputs": [
        {
          "output_type": "stream",
          "name": "stdout",
          "text": [
            "--2022-10-28 11:04:13--  https://rakamin-lms.s3.ap-southeast-1.amazonaws.com/vix-assets/home-credit-indonesia/home-credit-default-risk.zip\n",
            "Resolving rakamin-lms.s3.ap-southeast-1.amazonaws.com (rakamin-lms.s3.ap-southeast-1.amazonaws.com)... 52.219.164.7\n",
            "Connecting to rakamin-lms.s3.ap-southeast-1.amazonaws.com (rakamin-lms.s3.ap-southeast-1.amazonaws.com)|52.219.164.7|:443... connected.\n",
            "HTTP request sent, awaiting response... 200 OK\n",
            "Length: 721616255 (688M) [application/zip]\n",
            "Saving to: ‘home-credit-default-risk.zip’\n",
            "\n",
            "home-credit-default 100%[===================>] 688.19M  66.7MB/s    in 11s     \n",
            "\n",
            "2022-10-28 11:04:24 (64.0 MB/s) - ‘home-credit-default-risk.zip’ saved [721616255/721616255]\n",
            "\n"
          ]
        }
      ]
    },
    {
      "cell_type": "code",
      "source": [
        "!unzip 'home-credit-default-risk.zip'"
      ],
      "metadata": {
        "colab": {
          "base_uri": "https://localhost:8080/"
        },
        "id": "LpF7715QEAcl",
        "outputId": "ac5027c1-15b2-483d-f319-665458bb29e4"
      },
      "execution_count": 3,
      "outputs": [
        {
          "output_type": "stream",
          "name": "stdout",
          "text": [
            "Archive:  home-credit-default-risk.zip\n",
            "  inflating: HomeCredit_columns_description.csv  \n",
            "  inflating: POS_CASH_balance.csv    \n",
            "  inflating: application_test.csv    \n",
            "  inflating: application_train.csv   \n",
            "  inflating: bureau.csv              \n",
            "  inflating: bureau_balance.csv      \n",
            "  inflating: credit_card_balance.csv  \n",
            "  inflating: installments_payments.csv  \n",
            "  inflating: previous_application.csv  \n",
            "  inflating: sample_submission.csv   \n"
          ]
        }
      ]
    },
    {
      "cell_type": "code",
      "source": [
        "!ls"
      ],
      "metadata": {
        "colab": {
          "base_uri": "https://localhost:8080/"
        },
        "id": "Gu5j8opXEd08",
        "outputId": "3252ff67-ae9f-4f86-8761-00557a1652bc"
      },
      "execution_count": 4,
      "outputs": [
        {
          "output_type": "stream",
          "name": "stdout",
          "text": [
            "application_test.csv\t\t    home-credit-default-risk.zip\n",
            "application_train.csv\t\t    installments_payments.csv\n",
            "bureau_balance.csv\t\t    POS_CASH_balance.csv\n",
            "bureau.csv\t\t\t    previous_application.csv\n",
            "credit_card_balance.csv\t\t    sample_data\n",
            "HomeCredit_columns_description.csv  sample_submission.csv\n"
          ]
        }
      ]
    },
    {
      "cell_type": "markdown",
      "source": [
        "**DATA CLEANING & PROCESSING**"
      ],
      "metadata": {
        "id": "CnH58926E9E2"
      }
    },
    {
      "cell_type": "code",
      "source": [
        "app_test = pd.read_csv('application_test.csv')\n",
        "app_train= pd.read_csv('application_train.csv')\n",
        "bur_b = pd.read_csv('bureau_balance.csv')\n",
        "bur=pd.read_csv('bureau.csv')\n",
        "cre_cardbal=pd.read_csv('credit_card_balance.csv')\n",
        "inst_pay=pd.read_csv('installments_payments.csv')\n",
        "cash_bal=pd.read_csv('POS_CASH_balance.csv')\n",
        "prev_app=pd.read_csv('previous_application.csv')\n",
        "samp_sub=pd.read_csv('sample_submission.csv')"
      ],
      "metadata": {
        "id": "mGr7IiAxFF_z"
      },
      "execution_count": 5,
      "outputs": []
    },
    {
      "cell_type": "code",
      "source": [
        "app_test.info()\n",
        "app_train.info()\n",
        "bur_b.info() \n",
        "bur.info()\n",
        "cre_cardbal.info()\n",
        "inst_pay.info()\n",
        "cash_bal.info()\n",
        "prev_app.info()\n",
        "samp_sub.info()"
      ],
      "metadata": {
        "colab": {
          "base_uri": "https://localhost:8080/"
        },
        "id": "qTST-0atGx48",
        "outputId": "c8b72391-9c29-4129-a728-f6a0f95c3ee5"
      },
      "execution_count": 6,
      "outputs": [
        {
          "output_type": "stream",
          "name": "stdout",
          "text": [
            "<class 'pandas.core.frame.DataFrame'>\n",
            "RangeIndex: 48744 entries, 0 to 48743\n",
            "Columns: 121 entries, SK_ID_CURR to AMT_REQ_CREDIT_BUREAU_YEAR\n",
            "dtypes: float64(65), int64(40), object(16)\n",
            "memory usage: 45.0+ MB\n",
            "<class 'pandas.core.frame.DataFrame'>\n",
            "RangeIndex: 307511 entries, 0 to 307510\n",
            "Columns: 122 entries, SK_ID_CURR to AMT_REQ_CREDIT_BUREAU_YEAR\n",
            "dtypes: float64(65), int64(41), object(16)\n",
            "memory usage: 286.2+ MB\n",
            "<class 'pandas.core.frame.DataFrame'>\n",
            "RangeIndex: 27299925 entries, 0 to 27299924\n",
            "Data columns (total 3 columns):\n",
            " #   Column          Dtype \n",
            "---  ------          ----- \n",
            " 0   SK_ID_BUREAU    int64 \n",
            " 1   MONTHS_BALANCE  int64 \n",
            " 2   STATUS          object\n",
            "dtypes: int64(2), object(1)\n",
            "memory usage: 624.8+ MB\n",
            "<class 'pandas.core.frame.DataFrame'>\n",
            "RangeIndex: 1716428 entries, 0 to 1716427\n",
            "Data columns (total 17 columns):\n",
            " #   Column                  Dtype  \n",
            "---  ------                  -----  \n",
            " 0   SK_ID_CURR              int64  \n",
            " 1   SK_ID_BUREAU            int64  \n",
            " 2   CREDIT_ACTIVE           object \n",
            " 3   CREDIT_CURRENCY         object \n",
            " 4   DAYS_CREDIT             int64  \n",
            " 5   CREDIT_DAY_OVERDUE      int64  \n",
            " 6   DAYS_CREDIT_ENDDATE     float64\n",
            " 7   DAYS_ENDDATE_FACT       float64\n",
            " 8   AMT_CREDIT_MAX_OVERDUE  float64\n",
            " 9   CNT_CREDIT_PROLONG      int64  \n",
            " 10  AMT_CREDIT_SUM          float64\n",
            " 11  AMT_CREDIT_SUM_DEBT     float64\n",
            " 12  AMT_CREDIT_SUM_LIMIT    float64\n",
            " 13  AMT_CREDIT_SUM_OVERDUE  float64\n",
            " 14  CREDIT_TYPE             object \n",
            " 15  DAYS_CREDIT_UPDATE      int64  \n",
            " 16  AMT_ANNUITY             float64\n",
            "dtypes: float64(8), int64(6), object(3)\n",
            "memory usage: 222.6+ MB\n",
            "<class 'pandas.core.frame.DataFrame'>\n",
            "RangeIndex: 3840312 entries, 0 to 3840311\n",
            "Data columns (total 23 columns):\n",
            " #   Column                      Dtype  \n",
            "---  ------                      -----  \n",
            " 0   SK_ID_PREV                  int64  \n",
            " 1   SK_ID_CURR                  int64  \n",
            " 2   MONTHS_BALANCE              int64  \n",
            " 3   AMT_BALANCE                 float64\n",
            " 4   AMT_CREDIT_LIMIT_ACTUAL     int64  \n",
            " 5   AMT_DRAWINGS_ATM_CURRENT    float64\n",
            " 6   AMT_DRAWINGS_CURRENT        float64\n",
            " 7   AMT_DRAWINGS_OTHER_CURRENT  float64\n",
            " 8   AMT_DRAWINGS_POS_CURRENT    float64\n",
            " 9   AMT_INST_MIN_REGULARITY     float64\n",
            " 10  AMT_PAYMENT_CURRENT         float64\n",
            " 11  AMT_PAYMENT_TOTAL_CURRENT   float64\n",
            " 12  AMT_RECEIVABLE_PRINCIPAL    float64\n",
            " 13  AMT_RECIVABLE               float64\n",
            " 14  AMT_TOTAL_RECEIVABLE        float64\n",
            " 15  CNT_DRAWINGS_ATM_CURRENT    float64\n",
            " 16  CNT_DRAWINGS_CURRENT        int64  \n",
            " 17  CNT_DRAWINGS_OTHER_CURRENT  float64\n",
            " 18  CNT_DRAWINGS_POS_CURRENT    float64\n",
            " 19  CNT_INSTALMENT_MATURE_CUM   float64\n",
            " 20  NAME_CONTRACT_STATUS        object \n",
            " 21  SK_DPD                      int64  \n",
            " 22  SK_DPD_DEF                  int64  \n",
            "dtypes: float64(15), int64(7), object(1)\n",
            "memory usage: 673.9+ MB\n",
            "<class 'pandas.core.frame.DataFrame'>\n",
            "RangeIndex: 13605401 entries, 0 to 13605400\n",
            "Data columns (total 8 columns):\n",
            " #   Column                  Dtype  \n",
            "---  ------                  -----  \n",
            " 0   SK_ID_PREV              int64  \n",
            " 1   SK_ID_CURR              int64  \n",
            " 2   NUM_INSTALMENT_VERSION  float64\n",
            " 3   NUM_INSTALMENT_NUMBER   int64  \n",
            " 4   DAYS_INSTALMENT         float64\n",
            " 5   DAYS_ENTRY_PAYMENT      float64\n",
            " 6   AMT_INSTALMENT          float64\n",
            " 7   AMT_PAYMENT             float64\n",
            "dtypes: float64(5), int64(3)\n",
            "memory usage: 830.4 MB\n",
            "<class 'pandas.core.frame.DataFrame'>\n",
            "RangeIndex: 10001358 entries, 0 to 10001357\n",
            "Data columns (total 8 columns):\n",
            " #   Column                 Dtype  \n",
            "---  ------                 -----  \n",
            " 0   SK_ID_PREV             int64  \n",
            " 1   SK_ID_CURR             int64  \n",
            " 2   MONTHS_BALANCE         int64  \n",
            " 3   CNT_INSTALMENT         float64\n",
            " 4   CNT_INSTALMENT_FUTURE  float64\n",
            " 5   NAME_CONTRACT_STATUS   object \n",
            " 6   SK_DPD                 int64  \n",
            " 7   SK_DPD_DEF             int64  \n",
            "dtypes: float64(2), int64(5), object(1)\n",
            "memory usage: 610.4+ MB\n",
            "<class 'pandas.core.frame.DataFrame'>\n",
            "RangeIndex: 1670214 entries, 0 to 1670213\n",
            "Data columns (total 37 columns):\n",
            " #   Column                       Non-Null Count    Dtype  \n",
            "---  ------                       --------------    -----  \n",
            " 0   SK_ID_PREV                   1670214 non-null  int64  \n",
            " 1   SK_ID_CURR                   1670214 non-null  int64  \n",
            " 2   NAME_CONTRACT_TYPE           1670214 non-null  object \n",
            " 3   AMT_ANNUITY                  1297979 non-null  float64\n",
            " 4   AMT_APPLICATION              1670214 non-null  float64\n",
            " 5   AMT_CREDIT                   1670213 non-null  float64\n",
            " 6   AMT_DOWN_PAYMENT             774370 non-null   float64\n",
            " 7   AMT_GOODS_PRICE              1284699 non-null  float64\n",
            " 8   WEEKDAY_APPR_PROCESS_START   1670214 non-null  object \n",
            " 9   HOUR_APPR_PROCESS_START      1670214 non-null  int64  \n",
            " 10  FLAG_LAST_APPL_PER_CONTRACT  1670214 non-null  object \n",
            " 11  NFLAG_LAST_APPL_IN_DAY       1670214 non-null  int64  \n",
            " 12  RATE_DOWN_PAYMENT            774370 non-null   float64\n",
            " 13  RATE_INTEREST_PRIMARY        5951 non-null     float64\n",
            " 14  RATE_INTEREST_PRIVILEGED     5951 non-null     float64\n",
            " 15  NAME_CASH_LOAN_PURPOSE       1670214 non-null  object \n",
            " 16  NAME_CONTRACT_STATUS         1670214 non-null  object \n",
            " 17  DAYS_DECISION                1670214 non-null  int64  \n",
            " 18  NAME_PAYMENT_TYPE            1670214 non-null  object \n",
            " 19  CODE_REJECT_REASON           1670214 non-null  object \n",
            " 20  NAME_TYPE_SUITE              849809 non-null   object \n",
            " 21  NAME_CLIENT_TYPE             1670214 non-null  object \n",
            " 22  NAME_GOODS_CATEGORY          1670214 non-null  object \n",
            " 23  NAME_PORTFOLIO               1670214 non-null  object \n",
            " 24  NAME_PRODUCT_TYPE            1670214 non-null  object \n",
            " 25  CHANNEL_TYPE                 1670214 non-null  object \n",
            " 26  SELLERPLACE_AREA             1670214 non-null  int64  \n",
            " 27  NAME_SELLER_INDUSTRY         1670214 non-null  object \n",
            " 28  CNT_PAYMENT                  1297984 non-null  float64\n",
            " 29  NAME_YIELD_GROUP             1670214 non-null  object \n",
            " 30  PRODUCT_COMBINATION          1669868 non-null  object \n",
            " 31  DAYS_FIRST_DRAWING           997149 non-null   float64\n",
            " 32  DAYS_FIRST_DUE               997149 non-null   float64\n",
            " 33  DAYS_LAST_DUE_1ST_VERSION    997149 non-null   float64\n",
            " 34  DAYS_LAST_DUE                997149 non-null   float64\n",
            " 35  DAYS_TERMINATION             997149 non-null   float64\n",
            " 36  NFLAG_INSURED_ON_APPROVAL    997149 non-null   float64\n",
            "dtypes: float64(15), int64(6), object(16)\n",
            "memory usage: 471.5+ MB\n",
            "<class 'pandas.core.frame.DataFrame'>\n",
            "RangeIndex: 48744 entries, 0 to 48743\n",
            "Data columns (total 2 columns):\n",
            " #   Column      Non-Null Count  Dtype  \n",
            "---  ------      --------------  -----  \n",
            " 0   SK_ID_CURR  48744 non-null  int64  \n",
            " 1   TARGET      48744 non-null  float64\n",
            "dtypes: float64(1), int64(1)\n",
            "memory usage: 761.8 KB\n"
          ]
        }
      ]
    },
    {
      "cell_type": "code",
      "source": [
        "print(f'\\n\\tapp_test\\n{app_test.isna().sum()}')\n",
        "print(f'\\napp_train\\n{app_train.isna().sum()}')\n",
        "print(f'\\n\\n{bur_b.isna().sum()}')\n",
        "print(f'\\n\\n{bur.isna().sum()}')\n",
        "print(f'\\n\\n{cre_cardbal.isna().sum()}')\n",
        "print(f'\\n\\n{inst_pay.isna().sum()}')\n",
        "print(f'\\n\\n{cash_bal.isna().sum()}')\n",
        "print(f'\\n\\n{prev_app.isna().sum()}')\n",
        "print(f'\\n\\n{samp_sub.isna().sum()}')"
      ],
      "metadata": {
        "colab": {
          "base_uri": "https://localhost:8080/"
        },
        "id": "_5YvqdmMINjw",
        "outputId": "65768f4a-f5a9-46a3-a085-2f0e0f03e3c8"
      },
      "execution_count": 7,
      "outputs": [
        {
          "output_type": "stream",
          "name": "stdout",
          "text": [
            "\n",
            "\tapp_test\n",
            "SK_ID_CURR                       0\n",
            "NAME_CONTRACT_TYPE               0\n",
            "CODE_GENDER                      0\n",
            "FLAG_OWN_CAR                     0\n",
            "FLAG_OWN_REALTY                  0\n",
            "                              ... \n",
            "AMT_REQ_CREDIT_BUREAU_DAY     6049\n",
            "AMT_REQ_CREDIT_BUREAU_WEEK    6049\n",
            "AMT_REQ_CREDIT_BUREAU_MON     6049\n",
            "AMT_REQ_CREDIT_BUREAU_QRT     6049\n",
            "AMT_REQ_CREDIT_BUREAU_YEAR    6049\n",
            "Length: 121, dtype: int64\n",
            "\n",
            "app_train\n",
            "SK_ID_CURR                        0\n",
            "TARGET                            0\n",
            "NAME_CONTRACT_TYPE                0\n",
            "CODE_GENDER                       0\n",
            "FLAG_OWN_CAR                      0\n",
            "                              ...  \n",
            "AMT_REQ_CREDIT_BUREAU_DAY     41519\n",
            "AMT_REQ_CREDIT_BUREAU_WEEK    41519\n",
            "AMT_REQ_CREDIT_BUREAU_MON     41519\n",
            "AMT_REQ_CREDIT_BUREAU_QRT     41519\n",
            "AMT_REQ_CREDIT_BUREAU_YEAR    41519\n",
            "Length: 122, dtype: int64\n",
            "\n",
            "\n",
            "SK_ID_BUREAU      0\n",
            "MONTHS_BALANCE    0\n",
            "STATUS            0\n",
            "dtype: int64\n",
            "\n",
            "\n",
            "SK_ID_CURR                      0\n",
            "SK_ID_BUREAU                    0\n",
            "CREDIT_ACTIVE                   0\n",
            "CREDIT_CURRENCY                 0\n",
            "DAYS_CREDIT                     0\n",
            "CREDIT_DAY_OVERDUE              0\n",
            "DAYS_CREDIT_ENDDATE        105553\n",
            "DAYS_ENDDATE_FACT          633653\n",
            "AMT_CREDIT_MAX_OVERDUE    1124488\n",
            "CNT_CREDIT_PROLONG              0\n",
            "AMT_CREDIT_SUM                 13\n",
            "AMT_CREDIT_SUM_DEBT        257669\n",
            "AMT_CREDIT_SUM_LIMIT       591780\n",
            "AMT_CREDIT_SUM_OVERDUE          0\n",
            "CREDIT_TYPE                     0\n",
            "DAYS_CREDIT_UPDATE              0\n",
            "AMT_ANNUITY               1226791\n",
            "dtype: int64\n",
            "\n",
            "\n",
            "SK_ID_PREV                         0\n",
            "SK_ID_CURR                         0\n",
            "MONTHS_BALANCE                     0\n",
            "AMT_BALANCE                        0\n",
            "AMT_CREDIT_LIMIT_ACTUAL            0\n",
            "AMT_DRAWINGS_ATM_CURRENT      749816\n",
            "AMT_DRAWINGS_CURRENT               0\n",
            "AMT_DRAWINGS_OTHER_CURRENT    749816\n",
            "AMT_DRAWINGS_POS_CURRENT      749816\n",
            "AMT_INST_MIN_REGULARITY       305236\n",
            "AMT_PAYMENT_CURRENT           767988\n",
            "AMT_PAYMENT_TOTAL_CURRENT          0\n",
            "AMT_RECEIVABLE_PRINCIPAL           0\n",
            "AMT_RECIVABLE                      0\n",
            "AMT_TOTAL_RECEIVABLE               0\n",
            "CNT_DRAWINGS_ATM_CURRENT      749816\n",
            "CNT_DRAWINGS_CURRENT               0\n",
            "CNT_DRAWINGS_OTHER_CURRENT    749816\n",
            "CNT_DRAWINGS_POS_CURRENT      749816\n",
            "CNT_INSTALMENT_MATURE_CUM     305236\n",
            "NAME_CONTRACT_STATUS               0\n",
            "SK_DPD                             0\n",
            "SK_DPD_DEF                         0\n",
            "dtype: int64\n",
            "\n",
            "\n",
            "SK_ID_PREV                   0\n",
            "SK_ID_CURR                   0\n",
            "NUM_INSTALMENT_VERSION       0\n",
            "NUM_INSTALMENT_NUMBER        0\n",
            "DAYS_INSTALMENT              0\n",
            "DAYS_ENTRY_PAYMENT        2905\n",
            "AMT_INSTALMENT               0\n",
            "AMT_PAYMENT               2905\n",
            "dtype: int64\n",
            "\n",
            "\n",
            "SK_ID_PREV                   0\n",
            "SK_ID_CURR                   0\n",
            "MONTHS_BALANCE               0\n",
            "CNT_INSTALMENT           26071\n",
            "CNT_INSTALMENT_FUTURE    26087\n",
            "NAME_CONTRACT_STATUS         0\n",
            "SK_DPD                       0\n",
            "SK_DPD_DEF                   0\n",
            "dtype: int64\n",
            "\n",
            "\n",
            "SK_ID_PREV                           0\n",
            "SK_ID_CURR                           0\n",
            "NAME_CONTRACT_TYPE                   0\n",
            "AMT_ANNUITY                     372235\n",
            "AMT_APPLICATION                      0\n",
            "AMT_CREDIT                           1\n",
            "AMT_DOWN_PAYMENT                895844\n",
            "AMT_GOODS_PRICE                 385515\n",
            "WEEKDAY_APPR_PROCESS_START           0\n",
            "HOUR_APPR_PROCESS_START              0\n",
            "FLAG_LAST_APPL_PER_CONTRACT          0\n",
            "NFLAG_LAST_APPL_IN_DAY               0\n",
            "RATE_DOWN_PAYMENT               895844\n",
            "RATE_INTEREST_PRIMARY          1664263\n",
            "RATE_INTEREST_PRIVILEGED       1664263\n",
            "NAME_CASH_LOAN_PURPOSE               0\n",
            "NAME_CONTRACT_STATUS                 0\n",
            "DAYS_DECISION                        0\n",
            "NAME_PAYMENT_TYPE                    0\n",
            "CODE_REJECT_REASON                   0\n",
            "NAME_TYPE_SUITE                 820405\n",
            "NAME_CLIENT_TYPE                     0\n",
            "NAME_GOODS_CATEGORY                  0\n",
            "NAME_PORTFOLIO                       0\n",
            "NAME_PRODUCT_TYPE                    0\n",
            "CHANNEL_TYPE                         0\n",
            "SELLERPLACE_AREA                     0\n",
            "NAME_SELLER_INDUSTRY                 0\n",
            "CNT_PAYMENT                     372230\n",
            "NAME_YIELD_GROUP                     0\n",
            "PRODUCT_COMBINATION                346\n",
            "DAYS_FIRST_DRAWING              673065\n",
            "DAYS_FIRST_DUE                  673065\n",
            "DAYS_LAST_DUE_1ST_VERSION       673065\n",
            "DAYS_LAST_DUE                   673065\n",
            "DAYS_TERMINATION                673065\n",
            "NFLAG_INSURED_ON_APPROVAL       673065\n",
            "dtype: int64\n",
            "\n",
            "\n",
            "SK_ID_CURR    0\n",
            "TARGET        0\n",
            "dtype: int64\n"
          ]
        }
      ]
    },
    {
      "cell_type": "code",
      "source": [
        "app_test.dropna(axis=1,inplace=True)\n",
        "app_train.dropna(axis=1,inplace=True)\n",
        "bur_b.dropna(axis=1,inplace=True) \n",
        "bur.dropna(axis=1,inplace=True)\n",
        "cre_cardbal.dropna(axis=1,inplace=True)\n",
        "inst_pay.dropna(axis=1,inplace=True)\n",
        "cash_bal.dropna(axis=1,inplace=True)\n",
        "prev_app.dropna(axis=1,inplace=True)\n",
        "samp_sub.dropna(axis=1,inplace=True)"
      ],
      "metadata": {
        "id": "n2gKVJ0bIr6k"
      },
      "execution_count": 8,
      "outputs": []
    },
    {
      "cell_type": "code",
      "source": [
        "app_test.shape\n",
        "app_train.shape\n",
        "bur_b.shape \n",
        "bur.shape\n",
        "cre_cardbal.shape\n",
        "inst_pay.shape\n",
        "cash_bal.shape\n",
        "prev_app.shape\n",
        "samp_sub.shape"
      ],
      "metadata": {
        "colab": {
          "base_uri": "https://localhost:8080/"
        },
        "id": "VlwEut4GQstV",
        "outputId": "7bd8f4b7-166c-4f6b-bf50-6aa5914f8ba1"
      },
      "execution_count": 9,
      "outputs": [
        {
          "output_type": "execute_result",
          "data": {
            "text/plain": [
              "(48744, 2)"
            ]
          },
          "metadata": {},
          "execution_count": 9
        }
      ]
    },
    {
      "cell_type": "code",
      "source": [
        "#app_test.head()\n",
        "#app_train.head()\n",
        "#bur_b.head() \n",
        "#bur.head()\n",
        "##cre_cardbal.head()\n",
        "#inst_pay.head()\n",
        "#cash_bal.head()\n",
        "#prev_app.head()\n",
        "#samp_sub.head()"
      ],
      "metadata": {
        "id": "KAQioVBjUXei"
      },
      "execution_count": 47,
      "outputs": []
    },
    {
      "cell_type": "code",
      "source": [
        "fig = plt.figure(figsize=(12, 8))\n",
        "\n",
        "payment_type = bur.groupby('CREDIT_ACTIVE')['SK_ID_CURR'].count().reset_index()\n",
        "payment_type = payment_type.rename(columns = {'SK_ID_CURR':'total_order'}).sort_values(by = 'total_order', ascending = False)\n",
        "plt.pie(x = payment_type['total_order'], labels = payment_type['CREDIT_ACTIVE'], autopct='%1.1f%%')\n",
        "plt.title(f\"Keaktifan Kredit\\n\")\n",
        "plt.show()"
      ],
      "metadata": {
        "colab": {
          "base_uri": "https://localhost:8080/",
          "height": 497
        },
        "id": "cELkxb9zWCH1",
        "outputId": "5553277c-f924-49d3-d2ac-db85dc7207d1"
      },
      "execution_count": 15,
      "outputs": [
        {
          "output_type": "display_data",
          "data": {
            "text/plain": [
              "<Figure size 864x576 with 1 Axes>"
            ],
            "image/png": "[encoded data removed]"
          },
          "metadata": {}
        }
      ]
    },
    {
      "cell_type": "code",
      "source": [
        "f,ax = plt.subplots(figsize=(10, 6))\n",
        "bur.isna().sum()\n",
        "\n",
        "sns.countplot(x='CREDIT_TYPE', data=bur, palette='gist_yarg_r', )\n",
        "for tick in ax.get_xticklabels():\n",
        "    tick.set_rotation(45) \n",
        "ax.set_title('Banyak Jenis Kredit', fontsize=16)\n",
        "ax.set_xlabel('jenis', fontsize=12)\n",
        "ax.set_ylabel('Banyak pelanggan', fontsize=12)\n",
        "plt.show()"
      ],
      "metadata": {
        "colab": {
          "base_uri": "https://localhost:8080/",
          "height": 526
        },
        "id": "CIoWedD0XZn7",
        "outputId": "fe7e51d9-ccf3-4773-914e-43c605857e93"
      },
      "execution_count": 26,
      "outputs": [
        {
          "output_type": "display_data",
          "data": {
            "text/plain": [
              "<Figure size 720x432 with 1 Axes>"
            ],
            "image/png": "[encoded data removed]"
          },
          "metadata": {
            "needs_background": "light"
          }
        }
      ]
    },
    {
      "cell_type": "code",
      "source": [
        "f,ax = plt.subplots(figsize=(10, 6))\n",
        "\n",
        "\n",
        "sns.countplot(x='NAME_CONTRACT_STATUS', data=cash_bal, palette='gist_yarg_r', )\n",
        "for tick in ax.get_xticklabels():\n",
        "    tick.set_rotation(45) \n",
        "ax.set_title('Persebaran Status kontrak', fontsize=16)\n",
        "ax.set_xlabel('Status', fontsize=12)\n",
        "ax.set_ylabel('Banyak', fontsize=12)\n",
        "plt.show()"
      ],
      "metadata": {
        "colab": {
          "base_uri": "https://localhost:8080/",
          "height": 481
        },
        "id": "zpDVrnZRaTd_",
        "outputId": "7b8d8228-bb79-4deb-d85f-c1634b3cd9c0"
      },
      "execution_count": 27,
      "outputs": [
        {
          "output_type": "display_data",
          "data": {
            "text/plain": [
              "<Figure size 720x432 with 1 Axes>"
            ],
            "image/png": "[encoded data removed]"
          },
          "metadata": {
            "needs_background": "light"
          }
        }
      ]
    },
    {
      "cell_type": "code",
      "source": [
        "prev_app.head()\n",
        "#prev_app.info()"
      ],
      "metadata": {
        "colab": {
          "base_uri": "https://localhost:8080/",
          "height": 369
        },
        "id": "aiCeXGJTblsc",
        "outputId": "47e795b3-1f71-4f68-aeba-129a89da290c"
      },
      "execution_count": 39,
      "outputs": [
        {
          "output_type": "execute_result",
          "data": {
            "text/plain": [
              "   SK_ID_PREV  SK_ID_CURR NAME_CONTRACT_TYPE  AMT_APPLICATION  \\\n",
              "0     2030495      271877     Consumer loans          17145.0   \n",
              "1     2802425      108129         Cash loans         607500.0   \n",
              "2     2523466      122040         Cash loans         112500.0   \n",
              "3     2819243      176158         Cash loans         450000.0   \n",
              "4     1784265      202054         Cash loans         337500.0   \n",
              "\n",
              "  WEEKDAY_APPR_PROCESS_START  HOUR_APPR_PROCESS_START  \\\n",
              "0                   SATURDAY                       15   \n",
              "1                   THURSDAY                       11   \n",
              "2                    TUESDAY                       11   \n",
              "3                     MONDAY                        7   \n",
              "4                   THURSDAY                        9   \n",
              "\n",
              "  FLAG_LAST_APPL_PER_CONTRACT  NFLAG_LAST_APPL_IN_DAY NAME_CASH_LOAN_PURPOSE  \\\n",
              "0                           Y                       1                    XAP   \n",
              "1                           Y                       1                    XNA   \n",
              "2                           Y                       1                    XNA   \n",
              "3                           Y                       1                    XNA   \n",
              "4                           Y                       1                Repairs   \n",
              "\n",
              "  NAME_CONTRACT_STATUS  ...      NAME_PAYMENT_TYPE CODE_REJECT_REASON  \\\n",
              "0             Approved  ...  Cash through the bank                XAP   \n",
              "1             Approved  ...                    XNA                XAP   \n",
              "2             Approved  ...  Cash through the bank                XAP   \n",
              "3             Approved  ...  Cash through the bank                XAP   \n",
              "4              Refused  ...  Cash through the bank                 HC   \n",
              "\n",
              "  NAME_CLIENT_TYPE NAME_GOODS_CATEGORY NAME_PORTFOLIO NAME_PRODUCT_TYPE  \\\n",
              "0         Repeater              Mobile            POS               XNA   \n",
              "1         Repeater                 XNA           Cash            x-sell   \n",
              "2         Repeater                 XNA           Cash            x-sell   \n",
              "3         Repeater                 XNA           Cash            x-sell   \n",
              "4         Repeater                 XNA           Cash           walk-in   \n",
              "\n",
              "              CHANNEL_TYPE SELLERPLACE_AREA  NAME_SELLER_INDUSTRY  \\\n",
              "0             Country-wide               35          Connectivity   \n",
              "1           Contact center               -1                   XNA   \n",
              "2  Credit and cash offices               -1                   XNA   \n",
              "3  Credit and cash offices               -1                   XNA   \n",
              "4  Credit and cash offices               -1                   XNA   \n",
              "\n",
              "  NAME_YIELD_GROUP  \n",
              "0           middle  \n",
              "1       low_action  \n",
              "2             high  \n",
              "3           middle  \n",
              "4             high  \n",
              "\n",
              "[5 rows x 21 columns]"
            ],
            "text/html": [
              "\n",
              "  <div id=\"df-fc9be42d-7c51-44a2-8b7e-6518133f74fc\">\n",
              "    <div class=\"colab-df-container\">\n",
              "      <div>\n",
              "<style scoped>\n",
              "    .dataframe tbody tr th:only-of-type {\n",
              "        vertical-align: middle;\n",
              "    }\n",
              "\n",
              "    .dataframe tbody tr th {\n",
              "        vertical-align: top;\n",
              "    }\n",
              "\n",
              "    .dataframe thead th {\n",
              "        text-align: right;\n",
              "    }\n",
              "</style>\n",
              "<table border=\"1\" class=\"dataframe\">\n",
              "  <thead>\n",
              "    <tr style=\"text-align: right;\">\n",
              "      <th></th>\n",
              "      <th>SK_ID_PREV</th>\n",
              "      <th>SK_ID_CURR</th>\n",
              "      <th>NAME_CONTRACT_TYPE</th>\n",
              "      <th>AMT_APPLICATION</th>\n",
              "      <th>WEEKDAY_APPR_PROCESS_START</th>\n",
              "      <th>HOUR_APPR_PROCESS_START</th>\n",
              "      <th>FLAG_LAST_APPL_PER_CONTRACT</th>\n",
              "      <th>NFLAG_LAST_APPL_IN_DAY</th>\n",
              "      <th>NAME_CASH_LOAN_PURPOSE</th>\n",
              "      <th>NAME_CONTRACT_STATUS</th>\n",
              "      <th>...</th>\n",
              "      <th>NAME_PAYMENT_TYPE</th>\n",
              "      <th>CODE_REJECT_REASON</th>\n",
              "      <th>NAME_CLIENT_TYPE</th>\n",
              "      <th>NAME_GOODS_CATEGORY</th>\n",
              "      <th>NAME_PORTFOLIO</th>\n",
              "      <th>NAME_PRODUCT_TYPE</th>\n",
              "      <th>CHANNEL_TYPE</th>\n",
              "      <th>SELLERPLACE_AREA</th>\n",
              "      <th>NAME_SELLER_INDUSTRY</th>\n",
              "      <th>NAME_YIELD_GROUP</th>\n",
              "    </tr>\n",
              "  </thead>\n",
              "  <tbody>\n",
              "    <tr>\n",
              "      <th>0</th>\n",
              "      <td>2030495</td>\n",
              "      <td>271877</td>\n",
              "      <td>Consumer loans</td>\n",
              "      <td>17145.0</td>\n",
              "      <td>SATURDAY</td>\n",
              "      <td>15</td>\n",
              "      <td>Y</td>\n",
              "      <td>1</td>\n",
              "      <td>XAP</td>\n",
              "      <td>Approved</td>\n",
              "      <td>...</td>\n",
              "      <td>Cash through the bank</td>\n",
              "      <td>XAP</td>\n",
              "      <td>Repeater</td>\n",
              "      <td>Mobile</td>\n",
              "      <td>POS</td>\n",
              "      <td>XNA</td>\n",
              "      <td>Country-wide</td>\n",
              "      <td>35</td>\n",
              "      <td>Connectivity</td>\n",
              "      <td>middle</td>\n",
              "    </tr>\n",
              "    <tr>\n",
              "      <th>1</th>\n",
              "      <td>2802425</td>\n",
              "      <td>108129</td>\n",
              "      <td>Cash loans</td>\n",
              "      <td>607500.0</td>\n",
              "      <td>THURSDAY</td>\n",
              "      <td>11</td>\n",
              "      <td>Y</td>\n",
              "      <td>1</td>\n",
              "      <td>XNA</td>\n",
              "      <td>Approved</td>\n",
              "      <td>...</td>\n",
              "      <td>XNA</td>\n",
              "      <td>XAP</td>\n",
              "      <td>Repeater</td>\n",
              "      <td>XNA</td>\n",
              "      <td>Cash</td>\n",
              "      <td>x-sell</td>\n",
              "      <td>Contact center</td>\n",
              "      <td>-1</td>\n",
              "      <td>XNA</td>\n",
              "      <td>low_action</td>\n",
              "    </tr>\n",
              "    <tr>\n",
              "      <th>2</th>\n",
              "      <td>2523466</td>\n",
              "      <td>122040</td>\n",
              "      <td>Cash loans</td>\n",
              "      <td>112500.0</td>\n",
              "      <td>TUESDAY</td>\n",
              "      <td>11</td>\n",
              "      <td>Y</td>\n",
              "      <td>1</td>\n",
              "      <td>XNA</td>\n",
              "      <td>Approved</td>\n",
              "      <td>...</td>\n",
              "      <td>Cash through the bank</td>\n",
              "      <td>XAP</td>\n",
              "      <td>Repeater</td>\n",
              "      <td>XNA</td>\n",
              "      <td>Cash</td>\n",
              "      <td>x-sell</td>\n",
              "      <td>Credit and cash offices</td>\n",
              "      <td>-1</td>\n",
              "      <td>XNA</td>\n",
              "      <td>high</td>\n",
              "    </tr>\n",
              "    <tr>\n",
              "      <th>3</th>\n",
              "      <td>2819243</td>\n",
              "      <td>176158</td>\n",
              "      <td>Cash loans</td>\n",
              "      <td>450000.0</td>\n",
              "      <td>MONDAY</td>\n",
              "      <td>7</td>\n",
              "      <td>Y</td>\n",
              "      <td>1</td>\n",
              "      <td>XNA</td>\n",
              "      <td>Approved</td>\n",
              "      <td>...</td>\n",
              "      <td>Cash through the bank</td>\n",
              "      <td>XAP</td>\n",
              "      <td>Repeater</td>\n",
              "      <td>XNA</td>\n",
              "      <td>Cash</td>\n",
              "      <td>x-sell</td>\n",
              "      <td>Credit and cash offices</td>\n",
              "      <td>-1</td>\n",
              "      <td>XNA</td>\n",
              "      <td>middle</td>\n",
              "    </tr>\n",
              "    <tr>\n",
              "      <th>4</th>\n",
              "      <td>1784265</td>\n",
              "      <td>202054</td>\n",
              "      <td>Cash loans</td>\n",
              "      <td>337500.0</td>\n",
              "      <td>THURSDAY</td>\n",
              "      <td>9</td>\n",
              "      <td>Y</td>\n",
              "      <td>1</td>\n",
              "      <td>Repairs</td>\n",
              "      <td>Refused</td>\n",
              "      <td>...</td>\n",
              "      <td>Cash through the bank</td>\n",
              "      <td>HC</td>\n",
              "      <td>Repeater</td>\n",
              "      <td>XNA</td>\n",
              "      <td>Cash</td>\n",
              "      <td>walk-in</td>\n",
              "      <td>Credit and cash offices</td>\n",
              "      <td>-1</td>\n",
              "      <td>XNA</td>\n",
              "      <td>high</td>\n",
              "    </tr>\n",
              "  </tbody>\n",
              "</table>\n",
              "<p>5 rows × 21 columns</p>\n",
              "</div>\n",
              "      <button class=\"colab-df-convert\" onclick=\"convertToInteractive('df-fc9be42d-7c51-44a2-8b7e-6518133f74fc')\"\n",
              "              title=\"Convert this dataframe to an interactive table.\"\n",
              "              style=\"display:none;\">\n",
              "        \n",
              "  <svg xmlns=\"http://www.w3.org/2000/svg\" height=\"24px\"viewBox=\"0 0 24 24\"\n",
              "       width=\"24px\">\n",
              "    <path d=\"M0 0h24v24H0V0z\" fill=\"none\"/>\n",
              "    <path d=\"M18.56 5.44l.94 2.06.94-2.06 2.06-.94-2.06-.94-.94-2.06-.94 2.06-2.06.94zm-11 1L8.5 8.5l.94-2.06 2.06-.94-2.06-.94L8.5 2.5l-.94 2.06-2.06.94zm10 10l.94 2.06.94-2.06 2.06-.94-2.06-.94-.94-2.06-.94 2.06-2.06.94z\"/><path d=\"M17.41 7.96l-1.37-1.37c-.4-.4-.92-.59-1.43-.59-.52 0-1.04.2-1.43.59L10.3 9.45l-7.72 7.72c-.78.78-.78 2.05 0 2.83L4 21.41c.39.39.9.59 1.41.59.51 0 1.02-.2 1.41-.59l7.78-7.78 2.81-2.81c.8-.78.8-2.07 0-2.86zM5.41 20L4 18.59l7.72-7.72 1.47 1.35L5.41 20z\"/>\n",
              "  </svg>\n",
              "      </button>\n",
              "      \n",
              "  <style>\n",
              "    .colab-df-container {\n",
              "      display:flex;\n",
              "      flex-wrap:wrap;\n",
              "      gap: 12px;\n",
              "    }\n",
              "\n",
              "    .colab-df-convert {\n",
              "      background-color: #E8F0FE;\n",
              "      border: none;\n",
              "      border-radius: 50%;\n",
              "      cursor: pointer;\n",
              "      display: none;\n",
              "      fill: #1967D2;\n",
              "      height: 32px;\n",
              "      padding: 0 0 0 0;\n",
              "      width: 32px;\n",
              "    }\n",
              "\n",
              "    .colab-df-convert:hover {\n",
              "      background-color: #E2EBFA;\n",
              "      box-shadow: 0px 1px 2px rgba(60, 64, 67, 0.3), 0px 1px 3px 1px rgba(60, 64, 67, 0.15);\n",
              "      fill: #174EA6;\n",
              "    }\n",
              "\n",
              "    [theme=dark] .colab-df-convert {\n",
              "      background-color: #3B4455;\n",
              "      fill: #D2E3FC;\n",
              "    }\n",
              "\n",
              "    [theme=dark] .colab-df-convert:hover {\n",
              "      background-color: #434B5C;\n",
              "      box-shadow: 0px 1px 3px 1px rgba(0, 0, 0, 0.15);\n",
              "      filter: drop-shadow(0px 1px 2px rgba(0, 0, 0, 0.3));\n",
              "      fill: #FFFFFF;\n",
              "    }\n",
              "  </style>\n",
              "\n",
              "      <script>\n",
              "        const buttonEl =\n",
              "          document.querySelector('#df-fc9be42d-7c51-44a2-8b7e-6518133f74fc button.colab-df-convert');\n",
              "        buttonEl.style.display =\n",
              "          google.colab.kernel.accessAllowed ? 'block' : 'none';\n",
              "\n",
              "        async function convertToInteractive(key) {\n",
              "          const element = document.querySelector('#df-fc9be42d-7c51-44a2-8b7e-6518133f74fc');\n",
              "          const dataTable =\n",
              "            await google.colab.kernel.invokeFunction('convertToInteractive',\n",
              "                                                     [key], {});\n",
              "          if (!dataTable) return;\n",
              "\n",
              "          const docLinkHtml = 'Like what you see? Visit the ' +\n",
              "            '<a target=\"_blank\" href=https://colab.research.google.com/notebooks/data_table.ipynb>data table notebook</a>'\n",
              "            + ' to learn more about interactive tables.';\n",
              "          element.innerHTML = '';\n",
              "          dataTable['output_type'] = 'display_data';\n",
              "          await google.colab.output.renderOutput(dataTable, element);\n",
              "          const docLink = document.createElement('div');\n",
              "          docLink.innerHTML = docLinkHtml;\n",
              "          element.appendChild(docLink);\n",
              "        }\n",
              "      </script>\n",
              "    </div>\n",
              "  </div>\n",
              "  "
            ]
          },
          "metadata": {},
          "execution_count": 39
        }
      ]
    },
    {
      "cell_type": "code",
      "source": [
        "f,ax = plt.subplots(figsize=(10, 6))\n",
        "\n",
        "sns.countplot(x='NAME_CONTRACT_TYPE', data=prev_app, palette='gist_yarg_r', )\n",
        "\n",
        "ax.set_title('Persebaran Tipe kontrak', fontsize=16)\n",
        "ax.set_xlabel('Tipe', fontsize=12)\n",
        "ax.set_ylabel('Banyak', fontsize=12)\n",
        "plt.show()"
      ],
      "metadata": {
        "colab": {
          "base_uri": "https://localhost:8080/",
          "height": 406
        },
        "id": "LsuucoKjbasv",
        "outputId": "e0fdec56-d70d-461c-aa65-f82a4c0e4fe1"
      },
      "execution_count": 33,
      "outputs": [
        {
          "output_type": "display_data",
          "data": {
            "text/plain": [
              "<Figure size 720x432 with 1 Axes>"
            ],
            "image/png": "[encoded data removed]"
          },
          "metadata": {
            "needs_background": "light"
          }
        }
      ]
    },
    {
      "cell_type": "code",
      "source": [
        "f,ax = plt.subplots(figsize=(10, 6))\n",
        "\n",
        "sns.countplot(x='WEEKDAY_APPR_PROCESS_START', data=prev_app, order=['SUNDAY','MONDAY','TUESDAY','WEDNESDAY','THURSDAY','FRIDAY','SATURDAY'] )\n",
        "\n",
        "ax.set_title('Banyaknya pesanan harian', fontsize=16)\n",
        "ax.set_xlabel('Hari', fontsize=12)\n",
        "ax.set_ylabel('Banyak', fontsize=12)\n",
        "plt.show()"
      ],
      "metadata": {
        "colab": {
          "base_uri": "https://localhost:8080/",
          "height": 406
        },
        "id": "PqdCtpH5dNJ4",
        "outputId": "2cb69866-b186-42f1-c453-71b185cd12db"
      },
      "execution_count": 36,
      "outputs": [
        {
          "output_type": "display_data",
          "data": {
            "text/plain": [
              "<Figure size 720x432 with 1 Axes>"
            ],
            "image/png": "[encoded data removed]"
          },
          "metadata": {
            "needs_background": "light"
          }
        }
      ]
    },
    {
      "cell_type": "code",
      "source": [
        "f,ax = plt.subplots(figsize=(10, 6))\n",
        "\n",
        "sns.countplot(x='NAME_CONTRACT_STATUS', data=prev_app, palette='gist_yarg_r', )\n",
        "\n",
        "ax.set_title('Persebaran Tipe kontrak', fontsize=16)\n",
        "ax.set_xlabel('Tipe', fontsize=12)\n",
        "ax.set_ylabel('Banyak', fontsize=12)\n",
        "plt.show()"
      ],
      "metadata": {
        "colab": {
          "base_uri": "https://localhost:8080/",
          "height": 409
        },
        "id": "2E1lMMTTeWxa",
        "outputId": "47b2ae62-18da-4304-941f-7ee8c6e77f96"
      },
      "execution_count": 38,
      "outputs": [
        {
          "output_type": "display_data",
          "data": {
            "text/plain": [
              "<Figure size 720x432 with 1 Axes>"
            ],
            "image/png": "[encoded data removed]"
          },
          "metadata": {
            "needs_background": "light"
          }
        }
      ]
    },
    {
      "cell_type": "code",
      "source": [
        "f,ax = plt.subplots(figsize=(10, 6))\n",
        "\n",
        "sns.countplot(x='NAME_PORTFOLIO', data=prev_app, palette='gist_yarg_r', )\n",
        "\n",
        "ax.set_title('judul', fontsize=16)\n",
        "ax.set_xlabel('sumbu x', fontsize=12)\n",
        "ax.set_ylabel('sumbu y', fontsize=12)\n",
        "plt.show()"
      ],
      "metadata": {
        "colab": {
          "base_uri": "https://localhost:8080/",
          "height": 406
        },
        "id": "70NBS8cOfQFs",
        "outputId": "55eea24c-f30b-42c7-f159-2b204b1cd5d4"
      },
      "execution_count": 40,
      "outputs": [
        {
          "output_type": "display_data",
          "data": {
            "text/plain": [
              "<Figure size 720x432 with 1 Axes>"
            ],
            "image/png": "[encoded data removed]"
          },
          "metadata": {
            "needs_background": "light"
          }
        }
      ]
    },
    {
      "cell_type": "code",
      "source": [
        "f,ax = plt.subplots(figsize=(10, 6))\n",
        "\n",
        "sns.countplot(x='CHANNEL_TYPE', data=prev_app, palette='gist_yarg_r', )\n",
        "for tick in ax.get_xticklabels():\n",
        "    tick.set_rotation(45) \n",
        "    \n",
        "ax.set_title('judul', fontsize=16)\n",
        "ax.set_xlabel('sumbu x', fontsize=12)\n",
        "ax.set_ylabel('sumbu y', fontsize=12)\n",
        "plt.show()"
      ],
      "metadata": {
        "colab": {
          "base_uri": "https://localhost:8080/",
          "height": 497
        },
        "id": "E2nzo9aDfWF0",
        "outputId": "dafae419-0f13-45da-f15c-debda5f3c6a8"
      },
      "execution_count": 45,
      "outputs": [
        {
          "output_type": "display_data",
          "data": {
            "text/plain": [
              "<Figure size 720x432 with 1 Axes>"
            ],
            "image/png": "[encoded data removed]"
          },
          "metadata": {
            "needs_background": "light"
          }
        }
      ]
    },
    {
      "cell_type": "code",
      "source": [
        "f,ax = plt.subplots(figsize=(10, 6))\n",
        "\n",
        "sns.countplot(x='NAME_YIELD_GROUP', data=prev_app, palette='gist_yarg_r', )\n",
        "\n",
        "ax.set_title('judul', fontsize=16)\n",
        "ax.set_xlabel('sumbu x', fontsize=12)\n",
        "ax.set_ylabel('sumbu y', fontsize=12)\n",
        "plt.show()"
      ],
      "metadata": {
        "colab": {
          "base_uri": "https://localhost:8080/",
          "height": 407
        },
        "id": "fTE7cTHvfgE6",
        "outputId": "faa370bb-de4c-4880-f920-24c93e848495"
      },
      "execution_count": 44,
      "outputs": [
        {
          "output_type": "display_data",
          "data": {
            "text/plain": [
              "<Figure size 720x432 with 1 Axes>"
            ],
            "image/png": "[encoded data removed]"
          },
          "metadata": {
            "needs_background": "light"
          }
        }
      ]
    },
    {
      "cell_type": "code",
      "source": [
        "#cp=cash_bal.merge(prev_app,on='SK_ID_PREV',how='inner')\n",
        "#cpi=cp.merge(inst_pay,on='SK_ID_PREV',how='inner')\n",
        "#cpic=cpi.merge(cre_cardbal,on=\"SK_ID_PREV\",how='inner')\n",
        "#cpicb=cpic.merge(bur,on='SK_ID_CURR',how=\"inner\")\n",
        "#cpicbb=cpicb.merge(bur_b,on='SK_ID_BUREAU',how=\"inner\")\n",
        "\n",
        "#test=cpicbb.merge(app_test,on='SK_ID_CURR',how=\"inner\")\n",
        "#train=cpicbb.merge(app_train,on='SK_ID_CURR',how=\"inner\")"
      ],
      "metadata": {
        "id": "Xu6SiXguJR2p"
      },
      "execution_count": 10,
      "outputs": []
    }
  ]
}